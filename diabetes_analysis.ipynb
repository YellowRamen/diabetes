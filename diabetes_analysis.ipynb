{
 "cells": [
  {
   "cell_type": "code",
   "execution_count": 62,
   "metadata": {
    "collapsed": true
   },
   "outputs": [],
   "source": [
    "import numpy as np\n",
    "import pandas as pd\n",
    "import matplotlib.pyplot as plt\n",
    "import seaborn as sns\n",
    "from sklearn.preprocessing import LabelEncoder, OneHotEncoder\n",
    "from sklearn.preprocessing import OneHotEncoder, Imputer, StandardScaler\n",
    "from sklearn.model_selection import train_test_split\n",
    "from sklearn.linear_model import LogisticRegression\n",
    "from sklearn.cross_validation import KFold\n",
    "from sklearn.metrics import auc, classification_report, roc_curve\n",
    "from sklearn.decomposition import PCA\n",
    "from sklearn.manifold import TSNE\n",
    "%matplotlib inline"
   ]
  },
  {
   "cell_type": "markdown",
   "metadata": {},
   "source": [
    "### Data:\n",
    "This dataset is the diabetes dataset from UCI data repository. The records were recorded from 1999 to 2008 according to the its source."
   ]
  },
  {
   "cell_type": "code",
   "execution_count": 2,
   "metadata": {
    "collapsed": true
   },
   "outputs": [],
   "source": [
    "diabetes = pd.read_csv(\"data/diabetic_data.csv\", engine=\"c\")"
   ]
  },
  {
   "cell_type": "code",
   "execution_count": 3,
   "metadata": {},
   "outputs": [
    {
     "data": {
      "text/html": [
       "<div>\n",
       "<style>\n",
       "    .dataframe thead tr:only-child th {\n",
       "        text-align: right;\n",
       "    }\n",
       "\n",
       "    .dataframe thead th {\n",
       "        text-align: left;\n",
       "    }\n",
       "\n",
       "    .dataframe tbody tr th {\n",
       "        vertical-align: top;\n",
       "    }\n",
       "</style>\n",
       "<table border=\"1\" class=\"dataframe\">\n",
       "  <thead>\n",
       "    <tr style=\"text-align: right;\">\n",
       "      <th></th>\n",
       "      <th>encounter_id</th>\n",
       "      <th>patient_nbr</th>\n",
       "      <th>race</th>\n",
       "      <th>gender</th>\n",
       "      <th>age</th>\n",
       "      <th>weight</th>\n",
       "      <th>admission_type_id</th>\n",
       "      <th>discharge_disposition_id</th>\n",
       "      <th>admission_source_id</th>\n",
       "      <th>time_in_hospital</th>\n",
       "      <th>...</th>\n",
       "      <th>citoglipton</th>\n",
       "      <th>insulin</th>\n",
       "      <th>glyburide-metformin</th>\n",
       "      <th>glipizide-metformin</th>\n",
       "      <th>glimepiride-pioglitazone</th>\n",
       "      <th>metformin-rosiglitazone</th>\n",
       "      <th>metformin-pioglitazone</th>\n",
       "      <th>change</th>\n",
       "      <th>diabetesMed</th>\n",
       "      <th>readmitted</th>\n",
       "    </tr>\n",
       "  </thead>\n",
       "  <tbody>\n",
       "    <tr>\n",
       "      <th>0</th>\n",
       "      <td>2278392</td>\n",
       "      <td>8222157</td>\n",
       "      <td>Caucasian</td>\n",
       "      <td>Female</td>\n",
       "      <td>[0-10)</td>\n",
       "      <td>?</td>\n",
       "      <td>6</td>\n",
       "      <td>25</td>\n",
       "      <td>1</td>\n",
       "      <td>1</td>\n",
       "      <td>...</td>\n",
       "      <td>No</td>\n",
       "      <td>No</td>\n",
       "      <td>No</td>\n",
       "      <td>No</td>\n",
       "      <td>No</td>\n",
       "      <td>No</td>\n",
       "      <td>No</td>\n",
       "      <td>No</td>\n",
       "      <td>No</td>\n",
       "      <td>NO</td>\n",
       "    </tr>\n",
       "    <tr>\n",
       "      <th>1</th>\n",
       "      <td>149190</td>\n",
       "      <td>55629189</td>\n",
       "      <td>Caucasian</td>\n",
       "      <td>Female</td>\n",
       "      <td>[10-20)</td>\n",
       "      <td>?</td>\n",
       "      <td>1</td>\n",
       "      <td>1</td>\n",
       "      <td>7</td>\n",
       "      <td>3</td>\n",
       "      <td>...</td>\n",
       "      <td>No</td>\n",
       "      <td>Up</td>\n",
       "      <td>No</td>\n",
       "      <td>No</td>\n",
       "      <td>No</td>\n",
       "      <td>No</td>\n",
       "      <td>No</td>\n",
       "      <td>Ch</td>\n",
       "      <td>Yes</td>\n",
       "      <td>&gt;30</td>\n",
       "    </tr>\n",
       "    <tr>\n",
       "      <th>2</th>\n",
       "      <td>64410</td>\n",
       "      <td>86047875</td>\n",
       "      <td>AfricanAmerican</td>\n",
       "      <td>Female</td>\n",
       "      <td>[20-30)</td>\n",
       "      <td>?</td>\n",
       "      <td>1</td>\n",
       "      <td>1</td>\n",
       "      <td>7</td>\n",
       "      <td>2</td>\n",
       "      <td>...</td>\n",
       "      <td>No</td>\n",
       "      <td>No</td>\n",
       "      <td>No</td>\n",
       "      <td>No</td>\n",
       "      <td>No</td>\n",
       "      <td>No</td>\n",
       "      <td>No</td>\n",
       "      <td>No</td>\n",
       "      <td>Yes</td>\n",
       "      <td>NO</td>\n",
       "    </tr>\n",
       "    <tr>\n",
       "      <th>3</th>\n",
       "      <td>500364</td>\n",
       "      <td>82442376</td>\n",
       "      <td>Caucasian</td>\n",
       "      <td>Male</td>\n",
       "      <td>[30-40)</td>\n",
       "      <td>?</td>\n",
       "      <td>1</td>\n",
       "      <td>1</td>\n",
       "      <td>7</td>\n",
       "      <td>2</td>\n",
       "      <td>...</td>\n",
       "      <td>No</td>\n",
       "      <td>Up</td>\n",
       "      <td>No</td>\n",
       "      <td>No</td>\n",
       "      <td>No</td>\n",
       "      <td>No</td>\n",
       "      <td>No</td>\n",
       "      <td>Ch</td>\n",
       "      <td>Yes</td>\n",
       "      <td>NO</td>\n",
       "    </tr>\n",
       "    <tr>\n",
       "      <th>4</th>\n",
       "      <td>16680</td>\n",
       "      <td>42519267</td>\n",
       "      <td>Caucasian</td>\n",
       "      <td>Male</td>\n",
       "      <td>[40-50)</td>\n",
       "      <td>?</td>\n",
       "      <td>1</td>\n",
       "      <td>1</td>\n",
       "      <td>7</td>\n",
       "      <td>1</td>\n",
       "      <td>...</td>\n",
       "      <td>No</td>\n",
       "      <td>Steady</td>\n",
       "      <td>No</td>\n",
       "      <td>No</td>\n",
       "      <td>No</td>\n",
       "      <td>No</td>\n",
       "      <td>No</td>\n",
       "      <td>Ch</td>\n",
       "      <td>Yes</td>\n",
       "      <td>NO</td>\n",
       "    </tr>\n",
       "  </tbody>\n",
       "</table>\n",
       "<p>5 rows × 50 columns</p>\n",
       "</div>"
      ],
      "text/plain": [
       "   encounter_id  patient_nbr             race  gender      age weight  \\\n",
       "0       2278392      8222157        Caucasian  Female   [0-10)      ?   \n",
       "1        149190     55629189        Caucasian  Female  [10-20)      ?   \n",
       "2         64410     86047875  AfricanAmerican  Female  [20-30)      ?   \n",
       "3        500364     82442376        Caucasian    Male  [30-40)      ?   \n",
       "4         16680     42519267        Caucasian    Male  [40-50)      ?   \n",
       "\n",
       "   admission_type_id  discharge_disposition_id  admission_source_id  \\\n",
       "0                  6                        25                    1   \n",
       "1                  1                         1                    7   \n",
       "2                  1                         1                    7   \n",
       "3                  1                         1                    7   \n",
       "4                  1                         1                    7   \n",
       "\n",
       "   time_in_hospital    ...     citoglipton insulin  glyburide-metformin  \\\n",
       "0                 1    ...              No      No                   No   \n",
       "1                 3    ...              No      Up                   No   \n",
       "2                 2    ...              No      No                   No   \n",
       "3                 2    ...              No      Up                   No   \n",
       "4                 1    ...              No  Steady                   No   \n",
       "\n",
       "   glipizide-metformin  glimepiride-pioglitazone  metformin-rosiglitazone  \\\n",
       "0                   No                        No                       No   \n",
       "1                   No                        No                       No   \n",
       "2                   No                        No                       No   \n",
       "3                   No                        No                       No   \n",
       "4                   No                        No                       No   \n",
       "\n",
       "   metformin-pioglitazone  change diabetesMed readmitted  \n",
       "0                      No      No          No         NO  \n",
       "1                      No      Ch         Yes        >30  \n",
       "2                      No      No         Yes         NO  \n",
       "3                      No      Ch         Yes         NO  \n",
       "4                      No      Ch         Yes         NO  \n",
       "\n",
       "[5 rows x 50 columns]"
      ]
     },
     "execution_count": 3,
     "metadata": {},
     "output_type": "execute_result"
    }
   ],
   "source": [
    "diabetes.head()"
   ]
  },
  {
   "cell_type": "markdown",
   "metadata": {},
   "source": [
    "From the dataframe, I have noticed that ? represents missing value. Therefore, I will be treating ? as null."
   ]
  },
  {
   "cell_type": "markdown",
   "metadata": {},
   "source": [
    "## Objective:\n",
    "after glancing at the data, I wanted to explore more about how each attributes affect the readmission decision.\n",
    "\n",
    "---"
   ]
  },
  {
   "cell_type": "markdown",
   "metadata": {},
   "source": [
    "### Data Integrity Checks"
   ]
  },
  {
   "cell_type": "code",
   "execution_count": 4,
   "metadata": {},
   "outputs": [
    {
     "data": {
      "text/plain": [
       "Index(['encounter_id', 'patient_nbr', 'race', 'gender', 'age', 'weight',\n",
       "       'admission_type_id', 'discharge_disposition_id', 'admission_source_id',\n",
       "       'time_in_hospital', 'payer_code', 'medical_specialty',\n",
       "       'num_lab_procedures', 'num_procedures', 'num_medications',\n",
       "       'number_outpatient', 'number_emergency', 'number_inpatient', 'diag_1',\n",
       "       'diag_2', 'diag_3', 'number_diagnoses', 'max_glu_serum', 'A1Cresult',\n",
       "       'metformin', 'repaglinide', 'nateglinide', 'chlorpropamide',\n",
       "       'glimepiride', 'acetohexamide', 'glipizide', 'glyburide', 'tolbutamide',\n",
       "       'pioglitazone', 'rosiglitazone', 'acarbose', 'miglitol', 'troglitazone',\n",
       "       'tolazamide', 'examide', 'citoglipton', 'insulin',\n",
       "       'glyburide-metformin', 'glipizide-metformin',\n",
       "       'glimepiride-pioglitazone', 'metformin-rosiglitazone',\n",
       "       'metformin-pioglitazone', 'change', 'diabetesMed', 'readmitted'],\n",
       "      dtype='object')"
      ]
     },
     "execution_count": 4,
     "metadata": {},
     "output_type": "execute_result"
    }
   ],
   "source": [
    "diabetes.columns"
   ]
  },
  {
   "cell_type": "code",
   "execution_count": 5,
   "metadata": {
    "collapsed": true
   },
   "outputs": [],
   "source": [
    "# lower case and underscore for column name\n",
    "diabetes.columns = diabetes.columns.str.replace(\"-\", \"_\").str.lower()"
   ]
  },
  {
   "cell_type": "code",
   "execution_count": 6,
   "metadata": {
    "collapsed": true
   },
   "outputs": [],
   "source": [
    "def check_most_freq(df):\n",
    "    \"\"\"This function checks each column and see\n",
    "    which the most occured values in each column.\n",
    "    This helps identify if a null value occupies most\n",
    "    of a column. Which will be marked for deletion\"\"\"\n",
    "    col = df.columns.tolist()\n",
    "    miss_val = []\n",
    "    for item in col:\n",
    "        ele, count = np.unique(df[item], return_counts=True)\n",
    "        argmax = np.argmax(count)\n",
    "        miss_val.append((ele[argmax], \"{}/{}\".format(count[argmax],len(df))))\n",
    "    return {k:v for k, v in zip(col, miss_val)}"
   ]
  },
  {
   "cell_type": "code",
   "execution_count": 7,
   "metadata": {
    "scrolled": true
   },
   "outputs": [
    {
     "data": {
      "text/plain": [
       "{'a1cresult': ('None', '84748/101766'),\n",
       " 'acarbose': ('No', '101458/101766'),\n",
       " 'acetohexamide': ('No', '101765/101766'),\n",
       " 'admission_source_id': (7, '57494/101766'),\n",
       " 'admission_type_id': (1, '53990/101766'),\n",
       " 'age': ('[70-80)', '26068/101766'),\n",
       " 'change': ('No', '54755/101766'),\n",
       " 'chlorpropamide': ('No', '101680/101766'),\n",
       " 'citoglipton': ('No', '101766/101766'),\n",
       " 'diabetesmed': ('Yes', '78363/101766'),\n",
       " 'diag_1': ('428', '6862/101766'),\n",
       " 'diag_2': ('276', '6752/101766'),\n",
       " 'diag_3': ('250', '11555/101766'),\n",
       " 'discharge_disposition_id': (1, '60234/101766'),\n",
       " 'encounter_id': (12522, '1/101766'),\n",
       " 'examide': ('No', '101766/101766'),\n",
       " 'gender': ('Female', '54708/101766'),\n",
       " 'glimepiride': ('No', '96575/101766'),\n",
       " 'glimepiride_pioglitazone': ('No', '101765/101766'),\n",
       " 'glipizide': ('No', '89080/101766'),\n",
       " 'glipizide_metformin': ('No', '101753/101766'),\n",
       " 'glyburide': ('No', '91116/101766'),\n",
       " 'glyburide_metformin': ('No', '101060/101766'),\n",
       " 'insulin': ('No', '47383/101766'),\n",
       " 'max_glu_serum': ('None', '96420/101766'),\n",
       " 'medical_specialty': ('?', '49949/101766'),\n",
       " 'metformin': ('No', '81778/101766'),\n",
       " 'metformin_pioglitazone': ('No', '101765/101766'),\n",
       " 'metformin_rosiglitazone': ('No', '101764/101766'),\n",
       " 'miglitol': ('No', '101728/101766'),\n",
       " 'nateglinide': ('No', '101063/101766'),\n",
       " 'num_lab_procedures': (1, '3208/101766'),\n",
       " 'num_medications': (13, '6086/101766'),\n",
       " 'num_procedures': (0, '46652/101766'),\n",
       " 'number_diagnoses': (9, '49474/101766'),\n",
       " 'number_emergency': (0, '90383/101766'),\n",
       " 'number_inpatient': (0, '67630/101766'),\n",
       " 'number_outpatient': (0, '85027/101766'),\n",
       " 'patient_nbr': (88785891, '40/101766'),\n",
       " 'payer_code': ('?', '40256/101766'),\n",
       " 'pioglitazone': ('No', '94438/101766'),\n",
       " 'race': ('Caucasian', '76099/101766'),\n",
       " 'readmitted': ('NO', '54864/101766'),\n",
       " 'repaglinide': ('No', '100227/101766'),\n",
       " 'rosiglitazone': ('No', '95401/101766'),\n",
       " 'time_in_hospital': (3, '17756/101766'),\n",
       " 'tolazamide': ('No', '101727/101766'),\n",
       " 'tolbutamide': ('No', '101743/101766'),\n",
       " 'troglitazone': ('No', '101763/101766'),\n",
       " 'weight': ('?', '98569/101766')}"
      ]
     },
     "execution_count": 7,
     "metadata": {},
     "output_type": "execute_result"
    }
   ],
   "source": [
    "check_most_freq(diabetes)"
   ]
  },
  {
   "cell_type": "markdown",
   "metadata": {},
   "source": [
    "From the result above, I will remove weight, payer_code, and medical_specialty. These columns may (or may not) have high correlations with diabetes, but I am excluding them due to lack of data."
   ]
  },
  {
   "cell_type": "code",
   "execution_count": 8,
   "metadata": {
    "collapsed": true
   },
   "outputs": [],
   "source": [
    "diabetes.drop([\"weight\", \"payer_code\", \"medical_specialty\"], axis=1, inplace=True)"
   ]
  },
  {
   "cell_type": "markdown",
   "metadata": {},
   "source": [
    "Dropping encounter_id and patient_nbr because they are means they are pretty much useless."
   ]
  },
  {
   "cell_type": "code",
   "execution_count": 9,
   "metadata": {
    "collapsed": true
   },
   "outputs": [],
   "source": [
    "diabetes.drop([\"encounter_id\", \"patient_nbr\"], axis=1, inplace=True)"
   ]
  },
  {
   "cell_type": "code",
   "execution_count": 10,
   "metadata": {
    "scrolled": true
   },
   "outputs": [
    {
     "data": {
      "text/html": [
       "<div>\n",
       "<style>\n",
       "    .dataframe thead tr:only-child th {\n",
       "        text-align: right;\n",
       "    }\n",
       "\n",
       "    .dataframe thead th {\n",
       "        text-align: left;\n",
       "    }\n",
       "\n",
       "    .dataframe tbody tr th {\n",
       "        vertical-align: top;\n",
       "    }\n",
       "</style>\n",
       "<table border=\"1\" class=\"dataframe\">\n",
       "  <thead>\n",
       "    <tr style=\"text-align: right;\">\n",
       "      <th></th>\n",
       "      <th>race</th>\n",
       "      <th>gender</th>\n",
       "      <th>age</th>\n",
       "      <th>admission_type_id</th>\n",
       "      <th>discharge_disposition_id</th>\n",
       "      <th>admission_source_id</th>\n",
       "      <th>time_in_hospital</th>\n",
       "      <th>num_lab_procedures</th>\n",
       "      <th>num_procedures</th>\n",
       "      <th>num_medications</th>\n",
       "      <th>...</th>\n",
       "      <th>citoglipton</th>\n",
       "      <th>insulin</th>\n",
       "      <th>glyburide_metformin</th>\n",
       "      <th>glipizide_metformin</th>\n",
       "      <th>glimepiride_pioglitazone</th>\n",
       "      <th>metformin_rosiglitazone</th>\n",
       "      <th>metformin_pioglitazone</th>\n",
       "      <th>change</th>\n",
       "      <th>diabetesmed</th>\n",
       "      <th>readmitted</th>\n",
       "    </tr>\n",
       "  </thead>\n",
       "  <tbody>\n",
       "    <tr>\n",
       "      <th>0</th>\n",
       "      <td>Caucasian</td>\n",
       "      <td>Female</td>\n",
       "      <td>[0-10)</td>\n",
       "      <td>6</td>\n",
       "      <td>25</td>\n",
       "      <td>1</td>\n",
       "      <td>1</td>\n",
       "      <td>41</td>\n",
       "      <td>0</td>\n",
       "      <td>1</td>\n",
       "      <td>...</td>\n",
       "      <td>No</td>\n",
       "      <td>No</td>\n",
       "      <td>No</td>\n",
       "      <td>No</td>\n",
       "      <td>No</td>\n",
       "      <td>No</td>\n",
       "      <td>No</td>\n",
       "      <td>No</td>\n",
       "      <td>No</td>\n",
       "      <td>NO</td>\n",
       "    </tr>\n",
       "    <tr>\n",
       "      <th>1</th>\n",
       "      <td>Caucasian</td>\n",
       "      <td>Female</td>\n",
       "      <td>[10-20)</td>\n",
       "      <td>1</td>\n",
       "      <td>1</td>\n",
       "      <td>7</td>\n",
       "      <td>3</td>\n",
       "      <td>59</td>\n",
       "      <td>0</td>\n",
       "      <td>18</td>\n",
       "      <td>...</td>\n",
       "      <td>No</td>\n",
       "      <td>Up</td>\n",
       "      <td>No</td>\n",
       "      <td>No</td>\n",
       "      <td>No</td>\n",
       "      <td>No</td>\n",
       "      <td>No</td>\n",
       "      <td>Ch</td>\n",
       "      <td>Yes</td>\n",
       "      <td>&gt;30</td>\n",
       "    </tr>\n",
       "    <tr>\n",
       "      <th>2</th>\n",
       "      <td>AfricanAmerican</td>\n",
       "      <td>Female</td>\n",
       "      <td>[20-30)</td>\n",
       "      <td>1</td>\n",
       "      <td>1</td>\n",
       "      <td>7</td>\n",
       "      <td>2</td>\n",
       "      <td>11</td>\n",
       "      <td>5</td>\n",
       "      <td>13</td>\n",
       "      <td>...</td>\n",
       "      <td>No</td>\n",
       "      <td>No</td>\n",
       "      <td>No</td>\n",
       "      <td>No</td>\n",
       "      <td>No</td>\n",
       "      <td>No</td>\n",
       "      <td>No</td>\n",
       "      <td>No</td>\n",
       "      <td>Yes</td>\n",
       "      <td>NO</td>\n",
       "    </tr>\n",
       "    <tr>\n",
       "      <th>3</th>\n",
       "      <td>Caucasian</td>\n",
       "      <td>Male</td>\n",
       "      <td>[30-40)</td>\n",
       "      <td>1</td>\n",
       "      <td>1</td>\n",
       "      <td>7</td>\n",
       "      <td>2</td>\n",
       "      <td>44</td>\n",
       "      <td>1</td>\n",
       "      <td>16</td>\n",
       "      <td>...</td>\n",
       "      <td>No</td>\n",
       "      <td>Up</td>\n",
       "      <td>No</td>\n",
       "      <td>No</td>\n",
       "      <td>No</td>\n",
       "      <td>No</td>\n",
       "      <td>No</td>\n",
       "      <td>Ch</td>\n",
       "      <td>Yes</td>\n",
       "      <td>NO</td>\n",
       "    </tr>\n",
       "    <tr>\n",
       "      <th>4</th>\n",
       "      <td>Caucasian</td>\n",
       "      <td>Male</td>\n",
       "      <td>[40-50)</td>\n",
       "      <td>1</td>\n",
       "      <td>1</td>\n",
       "      <td>7</td>\n",
       "      <td>1</td>\n",
       "      <td>51</td>\n",
       "      <td>0</td>\n",
       "      <td>8</td>\n",
       "      <td>...</td>\n",
       "      <td>No</td>\n",
       "      <td>Steady</td>\n",
       "      <td>No</td>\n",
       "      <td>No</td>\n",
       "      <td>No</td>\n",
       "      <td>No</td>\n",
       "      <td>No</td>\n",
       "      <td>Ch</td>\n",
       "      <td>Yes</td>\n",
       "      <td>NO</td>\n",
       "    </tr>\n",
       "  </tbody>\n",
       "</table>\n",
       "<p>5 rows × 45 columns</p>\n",
       "</div>"
      ],
      "text/plain": [
       "              race  gender      age  admission_type_id  \\\n",
       "0        Caucasian  Female   [0-10)                  6   \n",
       "1        Caucasian  Female  [10-20)                  1   \n",
       "2  AfricanAmerican  Female  [20-30)                  1   \n",
       "3        Caucasian    Male  [30-40)                  1   \n",
       "4        Caucasian    Male  [40-50)                  1   \n",
       "\n",
       "   discharge_disposition_id  admission_source_id  time_in_hospital  \\\n",
       "0                        25                    1                 1   \n",
       "1                         1                    7                 3   \n",
       "2                         1                    7                 2   \n",
       "3                         1                    7                 2   \n",
       "4                         1                    7                 1   \n",
       "\n",
       "   num_lab_procedures  num_procedures  num_medications    ...      \\\n",
       "0                  41               0                1    ...       \n",
       "1                  59               0               18    ...       \n",
       "2                  11               5               13    ...       \n",
       "3                  44               1               16    ...       \n",
       "4                  51               0                8    ...       \n",
       "\n",
       "   citoglipton  insulin  glyburide_metformin glipizide_metformin  \\\n",
       "0           No       No                   No                  No   \n",
       "1           No       Up                   No                  No   \n",
       "2           No       No                   No                  No   \n",
       "3           No       Up                   No                  No   \n",
       "4           No   Steady                   No                  No   \n",
       "\n",
       "  glimepiride_pioglitazone metformin_rosiglitazone  metformin_pioglitazone  \\\n",
       "0                       No                      No                      No   \n",
       "1                       No                      No                      No   \n",
       "2                       No                      No                      No   \n",
       "3                       No                      No                      No   \n",
       "4                       No                      No                      No   \n",
       "\n",
       "  change diabetesmed readmitted  \n",
       "0     No          No         NO  \n",
       "1     Ch         Yes        >30  \n",
       "2     No         Yes         NO  \n",
       "3     Ch         Yes         NO  \n",
       "4     Ch         Yes         NO  \n",
       "\n",
       "[5 rows x 45 columns]"
      ]
     },
     "execution_count": 10,
     "metadata": {},
     "output_type": "execute_result"
    }
   ],
   "source": [
    "diabetes.head()"
   ]
  },
  {
   "cell_type": "code",
   "execution_count": 11,
   "metadata": {
    "scrolled": true
   },
   "outputs": [
    {
     "name": "stdout",
     "output_type": "stream",
     "text": [
      "<class 'pandas.core.frame.DataFrame'>\n",
      "RangeIndex: 101766 entries, 0 to 101765\n",
      "Data columns (total 45 columns):\n",
      "race                        101766 non-null object\n",
      "gender                      101766 non-null object\n",
      "age                         101766 non-null object\n",
      "admission_type_id           101766 non-null int64\n",
      "discharge_disposition_id    101766 non-null int64\n",
      "admission_source_id         101766 non-null int64\n",
      "time_in_hospital            101766 non-null int64\n",
      "num_lab_procedures          101766 non-null int64\n",
      "num_procedures              101766 non-null int64\n",
      "num_medications             101766 non-null int64\n",
      "number_outpatient           101766 non-null int64\n",
      "number_emergency            101766 non-null int64\n",
      "number_inpatient            101766 non-null int64\n",
      "diag_1                      101766 non-null object\n",
      "diag_2                      101766 non-null object\n",
      "diag_3                      101766 non-null object\n",
      "number_diagnoses            101766 non-null int64\n",
      "max_glu_serum               101766 non-null object\n",
      "a1cresult                   101766 non-null object\n",
      "metformin                   101766 non-null object\n",
      "repaglinide                 101766 non-null object\n",
      "nateglinide                 101766 non-null object\n",
      "chlorpropamide              101766 non-null object\n",
      "glimepiride                 101766 non-null object\n",
      "acetohexamide               101766 non-null object\n",
      "glipizide                   101766 non-null object\n",
      "glyburide                   101766 non-null object\n",
      "tolbutamide                 101766 non-null object\n",
      "pioglitazone                101766 non-null object\n",
      "rosiglitazone               101766 non-null object\n",
      "acarbose                    101766 non-null object\n",
      "miglitol                    101766 non-null object\n",
      "troglitazone                101766 non-null object\n",
      "tolazamide                  101766 non-null object\n",
      "examide                     101766 non-null object\n",
      "citoglipton                 101766 non-null object\n",
      "insulin                     101766 non-null object\n",
      "glyburide_metformin         101766 non-null object\n",
      "glipizide_metformin         101766 non-null object\n",
      "glimepiride_pioglitazone    101766 non-null object\n",
      "metformin_rosiglitazone     101766 non-null object\n",
      "metformin_pioglitazone      101766 non-null object\n",
      "change                      101766 non-null object\n",
      "diabetesmed                 101766 non-null object\n",
      "readmitted                  101766 non-null object\n",
      "dtypes: int64(11), object(34)\n",
      "memory usage: 34.9+ MB\n"
     ]
    }
   ],
   "source": [
    "# check datatype of each column\n",
    "diabetes.info()"
   ]
  },
  {
   "cell_type": "code",
   "execution_count": 12,
   "metadata": {
    "collapsed": true
   },
   "outputs": [],
   "source": [
    "# split the columns into continuous and categorical for easier processing\n",
    "cat_var = ['race','gender','age', 'diag_1','diag_2','diag_3',\n",
    "           'max_glu_serum','a1cresult','metformin','repaglinide',\n",
    "           'nateglinide','chlorpropamide','glimepiride','acetohexamide',\n",
    "           'glipizide','glyburide','tolbutamide','pioglitazone','rosiglitazone',\n",
    "           'acarbose','miglitol','troglitazone','tolazamide','examide',\n",
    "           'citoglipton','insulin','glyburide_metformin','glipizide_metformin',\n",
    "           'glimepiride_pioglitazone','metformin_rosiglitazone','metformin_pioglitazone',\n",
    "           'change','diabetesmed','readmitted']\n",
    "\n",
    "cont_var = ['admission_type_id','discharge_disposition_id','admission_source_id',\n",
    "            'time_in_hospital','num_lab_procedures','num_procedures','num_medications',\n",
    "            'number_outpatient','number_emergency','number_inpatient','number_diagnoses']"
   ]
  },
  {
   "cell_type": "code",
   "execution_count": 13,
   "metadata": {
    "collapsed": true
   },
   "outputs": [],
   "source": [
    "# lowercase all elements in dataframe\n",
    "diabetes[cat_var] = diabetes[cat_var].applymap(lambda x: str(x).lower())"
   ]
  },
  {
   "cell_type": "code",
   "execution_count": 14,
   "metadata": {
    "collapsed": true
   },
   "outputs": [],
   "source": [
    "# make sure that the sum of the length of the two lists are equal to the total number of columns \n",
    "assert (len(cat_var) + len(cont_var) == len(diabetes.columns))"
   ]
  },
  {
   "cell_type": "code",
   "execution_count": 15,
   "metadata": {
    "collapsed": true,
    "scrolled": true
   },
   "outputs": [],
   "source": [
    "# change to the correct datatype\n",
    "diabetes[cat_var] = diabetes[cat_var].apply(lambda x: x.astype(\"category\"))\n",
    "diabetes[cont_var] = diabetes[cont_var].apply(lambda x: x.astype(\"int\"))"
   ]
  },
  {
   "cell_type": "code",
   "execution_count": 16,
   "metadata": {
    "scrolled": true
   },
   "outputs": [
    {
     "name": "stdout",
     "output_type": "stream",
     "text": [
      "<class 'pandas.core.frame.DataFrame'>\n",
      "RangeIndex: 101766 entries, 0 to 101765\n",
      "Data columns (total 45 columns):\n",
      "race                        101766 non-null category\n",
      "gender                      101766 non-null category\n",
      "age                         101766 non-null category\n",
      "admission_type_id           101766 non-null int64\n",
      "discharge_disposition_id    101766 non-null int64\n",
      "admission_source_id         101766 non-null int64\n",
      "time_in_hospital            101766 non-null int64\n",
      "num_lab_procedures          101766 non-null int64\n",
      "num_procedures              101766 non-null int64\n",
      "num_medications             101766 non-null int64\n",
      "number_outpatient           101766 non-null int64\n",
      "number_emergency            101766 non-null int64\n",
      "number_inpatient            101766 non-null int64\n",
      "diag_1                      101766 non-null category\n",
      "diag_2                      101766 non-null category\n",
      "diag_3                      101766 non-null category\n",
      "number_diagnoses            101766 non-null int64\n",
      "max_glu_serum               101766 non-null category\n",
      "a1cresult                   101766 non-null category\n",
      "metformin                   101766 non-null category\n",
      "repaglinide                 101766 non-null category\n",
      "nateglinide                 101766 non-null category\n",
      "chlorpropamide              101766 non-null category\n",
      "glimepiride                 101766 non-null category\n",
      "acetohexamide               101766 non-null category\n",
      "glipizide                   101766 non-null category\n",
      "glyburide                   101766 non-null category\n",
      "tolbutamide                 101766 non-null category\n",
      "pioglitazone                101766 non-null category\n",
      "rosiglitazone               101766 non-null category\n",
      "acarbose                    101766 non-null category\n",
      "miglitol                    101766 non-null category\n",
      "troglitazone                101766 non-null category\n",
      "tolazamide                  101766 non-null category\n",
      "examide                     101766 non-null category\n",
      "citoglipton                 101766 non-null category\n",
      "insulin                     101766 non-null category\n",
      "glyburide_metformin         101766 non-null category\n",
      "glipizide_metformin         101766 non-null category\n",
      "glimepiride_pioglitazone    101766 non-null category\n",
      "metformin_rosiglitazone     101766 non-null category\n",
      "metformin_pioglitazone      101766 non-null category\n",
      "change                      101766 non-null category\n",
      "diabetesmed                 101766 non-null category\n",
      "readmitted                  101766 non-null category\n",
      "dtypes: category(34), int64(11)\n",
      "memory usage: 12.2 MB\n"
     ]
    }
   ],
   "source": [
    "# confirming datatype has been changed\n",
    "diabetes.info()"
   ]
  },
  {
   "cell_type": "markdown",
   "metadata": {
    "collapsed": true
   },
   "source": [
    "---\n",
    "### EDA and Feature Engineering"
   ]
  },
  {
   "cell_type": "code",
   "execution_count": 17,
   "metadata": {},
   "outputs": [
    {
     "data": {
      "image/png": "[encoded data removed]",
      "text/plain": [
       "<matplotlib.figure.Figure at 0x7f353eb770b8>"
      ]
     },
     "metadata": {},
     "output_type": "display_data"
    }
   ],
   "source": [
    "sns.countplot(data = diabetes, x = \"readmitted\");"
   ]
  },
  {
   "cell_type": "markdown",
   "metadata": {},
   "source": [
    "Since we have 3 different classes and and are fairly imbalanced, it will be easier to combine $<30$ and $>30$ into readmitted. Therefore, the label becomes binary: yes and no"
   ]
  },
  {
   "cell_type": "code",
   "execution_count": 18,
   "metadata": {
    "collapsed": true
   },
   "outputs": [],
   "source": [
    "# creating binary classification rather than multiclass classification\n",
    "# any readmission is converted to yes\n",
    "\n",
    "diabetes.readmitted = diabetes.readmitted.map(lambda x: \"yes\" if x != \"no\" else x)\n",
    "diabetes.readmitted = diabetes.readmitted.map(lambda x: x.lower())"
   ]
  },
  {
   "cell_type": "code",
   "execution_count": 19,
   "metadata": {},
   "outputs": [
    {
     "data": {
      "image/png": "[encoded data removed]",
      "text/plain": [
       "<matplotlib.figure.Figure at 0x7f357422b390>"
      ]
     },
     "metadata": {},
     "output_type": "display_data"
    }
   ],
   "source": [
    "sns.countplot(data = diabetes, x = \"readmitted\");"
   ]
  },
  {
   "cell_type": "markdown",
   "metadata": {},
   "source": [
    "##### dealing with null values"
   ]
  },
  {
   "cell_type": "code",
   "execution_count": 20,
   "metadata": {
    "collapsed": true
   },
   "outputs": [],
   "source": [
    "# replaced all ? to actual null\n",
    "diabetes.replace(\"?\", np.nan, inplace=True)"
   ]
  },
  {
   "cell_type": "markdown",
   "metadata": {},
   "source": [
    "Age is the only ordinal categorical feature. The rest are nominal."
   ]
  },
  {
   "cell_type": "code",
   "execution_count": 21,
   "metadata": {
    "collapsed": true
   },
   "outputs": [],
   "source": [
    "# creating a dictionary that maintains the order of age\n",
    "age_key = {item:i+1 for item, i in zip(np.unique(diabetes.age), \n",
    "                                       [i for i in range(len(np.unique(diabetes.age)))])}\n",
    "# applying that order and convert from categorical to continuous\n",
    "diabetes.age = diabetes.age.map(lambda x: age_key[x])"
   ]
  },
  {
   "cell_type": "code",
   "execution_count": 22,
   "metadata": {},
   "outputs": [
    {
     "data": {
      "image/png": "[encoded data removed]",
      "text/plain": [
       "<matplotlib.figure.Figure at 0x7f352aa7d128>"
      ]
     },
     "metadata": {},
     "output_type": "display_data"
    }
   ],
   "source": [
    "plt.figure(figsize=(10,10));\n",
    "sns.heatmap(diabetes[cont_var].corr(), annot=True);"
   ]
  },
  {
   "cell_type": "markdown",
   "metadata": {},
   "source": [
    "Looking at the correlation matrix, we don't see highly correlated variables. Therefore, we don't have to worry about collinearity."
   ]
  },
  {
   "cell_type": "code",
   "execution_count": 25,
   "metadata": {},
   "outputs": [
    {
     "data": {
      "image/png": "[encoded data removed]",
      "text/plain": [
       "<matplotlib.figure.Figure at 0x7f352a8a19b0>"
      ]
     },
     "metadata": {},
     "output_type": "display_data"
    }
   ],
   "source": [
    "diabetes[cont_var].plot.box(figsize=(15,8));\n",
    "plt.xticks(rotation = 90);\n",
    "plt.title(\"Distribution of Continuous Variables\");"
   ]
  },
  {
   "cell_type": "markdown",
   "metadata": {},
   "source": [
    "Looking at the distribution of the continuous variables, we can see that we will need to standardize the distributions just in case if we go for dimension reduction/clustering."
   ]
  },
  {
   "cell_type": "code",
   "execution_count": 26,
   "metadata": {},
   "outputs": [],
   "source": [
    "# standardizing the variables\n",
    "ss = StandardScaler()\n",
    "diabetes[cont_var] = ss.fit_transform(diabetes[cont_var])"
   ]
  },
  {
   "cell_type": "code",
   "execution_count": 27,
   "metadata": {},
   "outputs": [
    {
     "data": {
      "image/png": "[encoded data removed]",
      "text/plain": [
       "<matplotlib.figure.Figure at 0x7f352844f5f8>"
      ]
     },
     "metadata": {},
     "output_type": "display_data"
    }
   ],
   "source": [
    "diabetes[cont_var].plot.box(figsize=(15,5));\n",
    "plt.xticks(rotation = 90);\n",
    "plt.title(\"standardized by mean: distribution of continuous variables\");"
   ]
  },
  {
   "cell_type": "code",
   "execution_count": 28,
   "metadata": {},
   "outputs": [
    {
     "data": {
      "image/png": "[encoded data removed]",
      "text/plain": [
       "<matplotlib.figure.Figure at 0x7f352a856240>"
      ]
     },
     "metadata": {},
     "output_type": "display_data"
    }
   ],
   "source": [
    "sns.countplot(data=diabetes, x='gender', hue='readmitted');"
   ]
  },
  {
   "cell_type": "markdown",
   "metadata": {},
   "source": [
    "Seeing the gender counts, it might be better to drop the unknown/invalid records."
   ]
  },
  {
   "cell_type": "code",
   "execution_count": 29,
   "metadata": {
    "collapsed": true
   },
   "outputs": [],
   "source": [
    "# replace unknown/invalid with null for easier imputation\n",
    "diabetes.gender.replace(\"unknown/invalid\", np.nan, inplace=True)"
   ]
  },
  {
   "cell_type": "code",
   "execution_count": 30,
   "metadata": {},
   "outputs": [
    {
     "data": {
      "image/png": "[encoded data removed]",
      "text/plain": [
       "<matplotlib.figure.Figure at 0x7f35289af5f8>"
      ]
     },
     "metadata": {},
     "output_type": "display_data"
    }
   ],
   "source": [
    "#plt.figure(figsize=(15,7));\n",
    "sns.factorplot(data=diabetes, x=\"age\", y=\"time_in_hospital\", col=\"readmitted\");"
   ]
  },
  {
   "cell_type": "markdown",
   "metadata": {},
   "source": [
    "Checking to see how the age affect number of times going to the hosiptal."
   ]
  },
  {
   "cell_type": "code",
   "execution_count": 31,
   "metadata": {
    "scrolled": true
   },
   "outputs": [
    {
     "data": {
      "text/plain": [
       "race                        2.233555\n",
       "diag_3                      1.398306\n",
       "diag_2                      0.351787\n",
       "diag_1                      0.020636\n",
       "gender                      0.002948\n",
       "number_emergency            0.000000\n",
       "metformin                   0.000000\n",
       "a1cresult                   0.000000\n",
       "max_glu_serum               0.000000\n",
       "number_diagnoses            0.000000\n",
       "number_inpatient            0.000000\n",
       "number_outpatient           0.000000\n",
       "nateglinide                 0.000000\n",
       "num_medications             0.000000\n",
       "num_procedures              0.000000\n",
       "num_lab_procedures          0.000000\n",
       "time_in_hospital            0.000000\n",
       "admission_source_id         0.000000\n",
       "discharge_disposition_id    0.000000\n",
       "admission_type_id           0.000000\n",
       "age                         0.000000\n",
       "repaglinide                 0.000000\n",
       "readmitted                  0.000000\n",
       "diabetesmed                 0.000000\n",
       "glimepiride                 0.000000\n",
       "change                      0.000000\n",
       "metformin_pioglitazone      0.000000\n",
       "metformin_rosiglitazone     0.000000\n",
       "glimepiride_pioglitazone    0.000000\n",
       "glipizide_metformin         0.000000\n",
       "glyburide_metformin         0.000000\n",
       "insulin                     0.000000\n",
       "citoglipton                 0.000000\n",
       "examide                     0.000000\n",
       "tolazamide                  0.000000\n",
       "troglitazone                0.000000\n",
       "miglitol                    0.000000\n",
       "acarbose                    0.000000\n",
       "rosiglitazone               0.000000\n",
       "pioglitazone                0.000000\n",
       "tolbutamide                 0.000000\n",
       "glyburide                   0.000000\n",
       "glipizide                   0.000000\n",
       "acetohexamide               0.000000\n",
       "chlorpropamide              0.000000\n",
       "dtype: float64"
      ]
     },
     "execution_count": 31,
     "metadata": {},
     "output_type": "execute_result"
    }
   ],
   "source": [
    "# finding percent missing in the data\n",
    "diabetes.apply(pd.isnull).apply(lambda x: len(x[x == True])/len(x) * 100).sort_values(ascending=False)"
   ]
  },
  {
   "cell_type": "markdown",
   "metadata": {},
   "source": [
    "According to the missing data report produced above, race is missing 2.23% of the data and diag 1, 2, and 3 is missing 0.02%, 0.35%, and 1.39% respectively. Knowing this, I will drop the data since we are not missing too many records."
   ]
  },
  {
   "cell_type": "code",
   "execution_count": 32,
   "metadata": {},
   "outputs": [
    {
     "data": {
      "text/plain": [
       "((101766, 45), (98052, 45))"
      ]
     },
     "execution_count": 32,
     "metadata": {},
     "output_type": "execute_result"
    }
   ],
   "source": [
    "# comparing number of records before and after dropping null values\n",
    "diabetes.shape, diabetes.dropna().shape"
   ]
  },
  {
   "cell_type": "code",
   "execution_count": 33,
   "metadata": {
    "collapsed": true
   },
   "outputs": [],
   "source": [
    "# since we didn't lose too many records, I will be dropping the null values\n",
    "diabetes.dropna(inplace=True)"
   ]
  },
  {
   "cell_type": "code",
   "execution_count": 34,
   "metadata": {
    "collapsed": true
   },
   "outputs": [],
   "source": [
    "# use LabelEncoder to convert all categorical values to numerical values\n",
    "LE = LabelEncoder()\n",
    "for var in cat_var:\n",
    "    diabetes[var] = LE.fit_transform(diabetes[var])"
   ]
  },
  {
   "cell_type": "markdown",
   "metadata": {},
   "source": [
    "# Modeling"
   ]
  },
  {
   "cell_type": "code",
   "execution_count": 35,
   "metadata": {
    "collapsed": true
   },
   "outputs": [],
   "source": [
    "# split the features from the label\n",
    "features = diabetes.drop(\"readmitted\", axis=1)\n",
    "label = diabetes.readmitted"
   ]
  },
  {
   "cell_type": "code",
   "execution_count": 36,
   "metadata": {
    "collapsed": true
   },
   "outputs": [],
   "source": [
    "# train test split with 80% of the data as the training set\n",
    "x_train, x_test, y_train, y_test = train_test_split(features, label, train_size = 0.8)"
   ]
  },
  {
   "cell_type": "markdown",
   "metadata": {},
   "source": [
    "### Logistic Regression:\n",
    "Modeling using logistic regression because its a very simple model and it works well for binary classification."
   ]
  },
  {
   "cell_type": "code",
   "execution_count": 52,
   "metadata": {},
   "outputs": [
    {
     "data": {
      "text/plain": [
       "LogisticRegression(C=1.0, class_weight=None, dual=False, fit_intercept=True,\n",
       "          intercept_scaling=1, max_iter=100, multi_class='ovr', n_jobs=1,\n",
       "          penalty='l2', random_state=None, solver='liblinear', tol=0.0001,\n",
       "          verbose=0, warm_start=False)"
      ]
     },
     "execution_count": 52,
     "metadata": {},
     "output_type": "execute_result"
    }
   ],
   "source": [
    "# with all features\n",
    "logR_all = LogisticRegression()\n",
    "logR_all.fit(x_train, y_train)"
   ]
  },
  {
   "cell_type": "code",
   "execution_count": 53,
   "metadata": {},
   "outputs": [
    {
     "data": {
      "text/plain": [
       "0.6152159502320127"
      ]
     },
     "execution_count": 53,
     "metadata": {},
     "output_type": "execute_result"
    }
   ],
   "source": [
    "logR_all.score(x_test, y_test)"
   ]
  },
  {
   "cell_type": "code",
   "execution_count": 54,
   "metadata": {
    "collapsed": true
   },
   "outputs": [],
   "source": [
    "logR_all_pred = logR_all.predict(x_test)"
   ]
  },
  {
   "cell_type": "code",
   "execution_count": 56,
   "metadata": {},
   "outputs": [
    {
     "name": "stdout",
     "output_type": "stream",
     "text": [
      "             precision    recall  f1-score   support\n",
      "\n",
      "          0       0.61      0.79      0.69     10465\n",
      "          1       0.64      0.41      0.50      9146\n",
      "\n",
      "avg / total       0.62      0.62      0.60     19611\n",
      "\n"
     ]
    }
   ],
   "source": [
    "print(classification_report(y_test, logR_all_pred))"
   ]
  },
  {
   "cell_type": "markdown",
   "metadata": {},
   "source": [
    "### ROC curve with AUC value"
   ]
  },
  {
   "cell_type": "code",
   "execution_count": 63,
   "metadata": {
    "collapsed": true
   },
   "outputs": [],
   "source": [
    "fpr, tpr, thresholds = roc_curve(y_test, logR_all_pred)\n",
    "area_u_curve = auc(fpr, tpr)"
   ]
  },
  {
   "cell_type": "code",
   "execution_count": 70,
   "metadata": {},
   "outputs": [
    {
     "data": {
      "image/png": "[encoded data removed]",
      "text/plain": [
       "<matplotlib.figure.Figure at 0x7f3528d12be0>"
      ]
     },
     "metadata": {},
     "output_type": "display_data"
    }
   ],
   "source": [
    "plt.figure(figsize=(7,7));\n",
    "plt.plot(fpr, tpr, color='green', label='ROC curve (area = {})'.format(area_u_curve));\n",
    "plt.plot([0,1], [0,1], linestyle='--');\n",
    "plt.xlabel(\"false positive rates\");\n",
    "plt.ylabel(\"true positive rates\");\n",
    "plt.title('Receiver operating characteristic for logistic regression');\n",
    "plt.legend(loc='upper left');"
   ]
  },
  {
   "cell_type": "markdown",
   "metadata": {
    "collapsed": true
   },
   "source": [
    "In the end, Logistic Regression didn't perform too well. Therefore, I should probably try another classification model in the future. In the mean time, will mess around with dimension reduction to see if I can understand the data more.\n",
    "\n",
    "---"
   ]
  },
  {
   "cell_type": "code",
   "execution_count": null,
   "metadata": {
    "collapsed": true
   },
   "outputs": [],
   "source": []
  }
 ],
 "metadata": {
  "kernelspec": {
   "display_name": "Python 3",
   "language": "python",
   "name": "python3"
  },
  "language_info": {
   "codemirror_mode": {
    "name": "ipython",
    "version": 3
   },
   "file_extension": ".py",
   "mimetype": "text/x-python",
   "name": "python",
   "nbconvert_exporter": "python",
   "pygments_lexer": "ipython3",
   "version": "3.6.1"
  }
 },
 "nbformat": 4,
 "nbformat_minor": 2
}
